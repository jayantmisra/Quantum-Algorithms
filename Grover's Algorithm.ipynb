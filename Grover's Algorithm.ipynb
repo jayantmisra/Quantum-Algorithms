{
 "cells": [
  {
   "cell_type": "code",
   "execution_count": 108,
   "metadata": {},
   "outputs": [],
   "source": [
    "import numpy as np\n",
    "from qiskit import Aer, QuantumCircuit, transpile, execute\n",
    "from qiskit.providers.aer import QasmSimulator\n",
    "from qiskit.visualization import plot_histogram"
   ]
  },
  {
   "cell_type": "code",
   "execution_count": 109,
   "metadata": {},
   "outputs": [],
   "source": [
    "qc = QuantumCircuit(4)\n",
    "qc.cz(0, 3)\n",
    "qc.cz(1, 3)\n",
    "# qc.cz(2, 3)\n",
    "oracle = qc.to_gate()\n",
    "oracle.name = \"omega\"\n",
    "\n",
    "def initialize_s(qc, qubits):\n",
    "    \"\"\"Apply a H-gate to 'qubits' in qc\"\"\"\n",
    "    for q in qubits:\n",
    "        qc.h(q)\n",
    "    return qc"
   ]
  },
  {
   "cell_type": "code",
   "execution_count": 110,
   "metadata": {},
   "outputs": [],
   "source": [
    "def diffuser(nqubits):\n",
    "    qc = QuantumCircuit(nqubits)\n",
    "    \n",
    "    # Apply transformation |s> -> |00..0> (H-gates)\n",
    "    for qubit in range(nqubits):\n",
    "        qc.h(qubit)\n",
    "        \n",
    "    # Apply transformation |00..0> -> |11..1> (X-gates)\n",
    "    for qubit in range(nqubits):\n",
    "        qc.x(qubit)\n",
    "        \n",
    "    # Do multi-controlled-Z gate\n",
    "    qc.h(nqubits-1)\n",
    "    qc.mct(list(range(nqubits-1)), nqubits-1)  # multi-controlled-toffoli\n",
    "    qc.h(nqubits-1)\n",
    "    \n",
    "    # Apply transformation |11..1> -> |00..0>\n",
    "    for qubit in range(nqubits):\n",
    "        qc.x(qubit)\n",
    "        \n",
    "    # Apply transformation |00..0> -> |s>\n",
    "    for qubit in range(nqubits):\n",
    "        qc.h(qubit)\n",
    "    \n",
    "    qc.draw()\n",
    "    # We will return the diffuser as a gate\n",
    "    U_s = qc.to_gate()\n",
    "    U_s.name = \"amplification\"\n",
    "    \n",
    "    return U_s\n",
    "\n",
    "def initialize_s(qc, qubits):\n",
    "    \"\"\"Apply a H-gate to 'qubits' in qc\"\"\"\n",
    "    for q in qubits:\n",
    "        qc.h(q)\n",
    "    return qc"
   ]
  },
  {
   "cell_type": "code",
   "execution_count": 111,
   "metadata": {},
   "outputs": [
    {
     "data": {
      "text/html": [
       "<pre style=\"word-wrap: normal;white-space: pre;background: #fff0;line-height: 1.1;font-family: &quot;Courier New&quot;,Courier,monospace\">        ┌───┐┌────────┐┌────────────────┐ ░ ┌─┐         \n",
       "   q_0: ┤ H ├┤0       ├┤0               ├─░─┤M├─────────\n",
       "        ├───┤│        ││                │ ░ └╥┘┌─┐      \n",
       "   q_1: ┤ H ├┤1       ├┤1               ├─░──╫─┤M├──────\n",
       "        ├───┤│  omega ││  amplification │ ░  ║ └╥┘┌─┐   \n",
       "   q_2: ┤ H ├┤2       ├┤2               ├─░──╫──╫─┤M├───\n",
       "        ├───┤│        ││                │ ░  ║  ║ └╥┘┌─┐\n",
       "   q_3: ┤ H ├┤3       ├┤3               ├─░──╫──╫──╫─┤M├\n",
       "        └───┘└────────┘└────────────────┘ ░  ║  ║  ║ └╥┘\n",
       "meas_0: ═════════════════════════════════════╩══╬══╬══╬═\n",
       "                                                ║  ║  ║ \n",
       "meas_1: ════════════════════════════════════════╩══╬══╬═\n",
       "                                                   ║  ║ \n",
       "meas_2: ═══════════════════════════════════════════╩══╬═\n",
       "                                                      ║ \n",
       "meas_3: ══════════════════════════════════════════════╩═\n",
       "                                                        </pre>"
      ],
      "text/plain": [
       "        ┌───┐┌────────┐┌────────────────┐ ░ ┌─┐         \n",
       "   q_0: ┤ H ├┤0       ├┤0               ├─░─┤M├─────────\n",
       "        ├───┤│        ││                │ ░ └╥┘┌─┐      \n",
       "   q_1: ┤ H ├┤1       ├┤1               ├─░──╫─┤M├──────\n",
       "        ├───┤│  omega ││  amplification │ ░  ║ └╥┘┌─┐   \n",
       "   q_2: ┤ H ├┤2       ├┤2               ├─░──╫──╫─┤M├───\n",
       "        ├───┤│        ││                │ ░  ║  ║ └╥┘┌─┐\n",
       "   q_3: ┤ H ├┤3       ├┤3               ├─░──╫──╫──╫─┤M├\n",
       "        └───┘└────────┘└────────────────┘ ░  ║  ║  ║ └╥┘\n",
       "meas_0: ═════════════════════════════════════╩══╬══╬══╬═\n",
       "                                                ║  ║  ║ \n",
       "meas_1: ════════════════════════════════════════╩══╬══╬═\n",
       "                                                   ║  ║ \n",
       "meas_2: ═══════════════════════════════════════════╩══╬═\n",
       "                                                      ║ \n",
       "meas_3: ══════════════════════════════════════════════╩═\n",
       "                                                        "
      ]
     },
     "execution_count": 111,
     "metadata": {},
     "output_type": "execute_result"
    }
   ],
   "source": [
    "n = 4\n",
    "grover_circuit = QuantumCircuit(n)\n",
    "grover_cicuit = initialize_s(grover_circuit, [0,1,2,3])\n",
    "grover_circuit.append(oracle, [0,1,2,3])\n",
    "grover_circuit.append(diffuser(n), [0,1,2,3])\n",
    "grover_circuit.measure_all()\n",
    "grover_circuit.draw()"
   ]
  },
  {
   "cell_type": "code",
   "execution_count": 114,
   "metadata": {},
   "outputs": [
    {
     "name": "stdout",
     "output_type": "stream",
     "text": [
      "{'1110': 518, '1001': 534, '1101': 530, '1010': 466}\n"
     ]
    },
    {
     "data": {
      "image/png": "[encoded data removed]",
      "text/plain": [
       "<Figure size 504x360 with 1 Axes>"
      ]
     },
     "execution_count": 114,
     "metadata": {},
     "output_type": "execute_result"
    }
   ],
   "source": [
    "# use local simulator\n",
    "aer_sim = Aer.get_backend('qasm_simulator')\n",
    "job = execute(grover_circuit, aer_sim, shots=2048)\n",
    "results = job.result()\n",
    "counts = results.get_counts(grover_circuit)\n",
    "print(counts)\n",
    "plot_histogram(counts)"
   ]
  },
  {
   "cell_type": "code",
   "execution_count": 115,
   "metadata": {},
   "outputs": [
    {
     "data": {
      "text/html": [
       "<pre style=\"word-wrap: normal;white-space: pre;background: #fff0;line-height: 1.1;font-family: &quot;Courier New&quot;,Courier,monospace\">     ┌───┐┌───┐          ┌───┐┌───┐     \n",
       "q_0: ┤ H ├┤ X ├───────■──┤ X ├┤ H ├─────\n",
       "     ├───┤├───┤       │  ├───┤├───┤     \n",
       "q_1: ┤ H ├┤ X ├───────■──┤ X ├┤ H ├─────\n",
       "     ├───┤├───┤┌───┐┌─┴─┐├───┤├───┤┌───┐\n",
       "q_2: ┤ H ├┤ X ├┤ H ├┤ X ├┤ H ├┤ X ├┤ H ├\n",
       "     └───┘└───┘└───┘└───┘└───┘└───┘└───┘</pre>"
      ],
      "text/plain": [
       "     ┌───┐┌───┐          ┌───┐┌───┐     \n",
       "q_0: ┤ H ├┤ X ├───────■──┤ X ├┤ H ├─────\n",
       "     ├───┤├───┤       │  ├───┤├───┤     \n",
       "q_1: ┤ H ├┤ X ├───────■──┤ X ├┤ H ├─────\n",
       "     ├───┤├───┤┌───┐┌─┴─┐├───┤├───┤┌───┐\n",
       "q_2: ┤ H ├┤ X ├┤ H ├┤ X ├┤ H ├┤ X ├┤ H ├\n",
       "     └───┘└───┘└───┘└───┘└───┘└───┘└───┘"
      ]
     },
     "execution_count": 115,
     "metadata": {},
     "output_type": "execute_result"
    }
   ],
   "source": [
    "nqubits = 3\n",
    "qc = QuantumCircuit(nqubits)\n",
    "    \n",
    "# Apply transformation |s> -> |00..0> (H-gates)\n",
    "for qubit in range(nqubits):\n",
    "    qc.h(qubit)\n",
    "        \n",
    "# Apply transformation |00..0> -> |11..1> (X-gates)\n",
    "for qubit in range(nqubits):\n",
    "    qc.x(qubit)\n",
    "        \n",
    "# Do multi-controlled-Z gate\n",
    "qc.h(nqubits-1)\n",
    "qc.mct(list(range(nqubits-1)), nqubits-1)  # multi-controlled-toffoli\n",
    "qc.h(nqubits-1)\n",
    "    \n",
    "# Apply transformation |11..1> -> |00..0>\n",
    "for qubit in range(nqubits):\n",
    "    qc.x(qubit)\n",
    "        \n",
    "# Apply transformation |00..0> -> |s>\n",
    "for qubit in range(nqubits):\n",
    "    qc.h(qubit)\n",
    "    \n",
    "qc.draw()"
   ]
  },
  {
   "cell_type": "code",
   "execution_count": null,
   "metadata": {},
   "outputs": [],
   "source": []
  }
 ],
 "metadata": {
  "kernelspec": {
   "display_name": "Python 3",
   "language": "python",
   "name": "python3"
  },
  "language_info": {
   "codemirror_mode": {
    "name": "ipython",
    "version": 3
   },
   "file_extension": ".py",
   "mimetype": "text/x-python",
   "name": "python",
   "nbconvert_exporter": "python",
   "pygments_lexer": "ipython3",
   "version": "3.8.5"
  }
 },
 "nbformat": 4,
 "nbformat_minor": 4
}
