{
 "cells": [
  {
   "cell_type": "code",
   "execution_count": 10,
   "metadata": {},
   "outputs": [],
   "source": [
    "import numpy as np\n",
    "from qiskit import Aer, QuantumCircuit, transpile, execute\n",
    "from qiskit.providers.aer import QasmSimulator\n",
    "from qiskit.visualization import plot_histogram"
   ]
  },
  {
   "cell_type": "code",
   "execution_count": 12,
   "metadata": {},
   "outputs": [
    {
     "data": {
      "text/html": [
       "<pre style=\"word-wrap: normal;white-space: pre;background: #fff0;line-height: 1.1;font-family: &quot;Courier New&quot;,Courier,monospace\">          \n",
       "q_0: ─────\n",
       "          \n",
       "q_1: ─────\n",
       "          \n",
       "q_2: ─────\n",
       "          \n",
       "q_3: ─────\n",
       "     ┌───┐\n",
       "q_4: ┤ X ├\n",
       "     └───┘</pre>"
      ],
      "text/plain": [
       "          \n",
       "q_0: ─────\n",
       "          \n",
       "q_1: ─────\n",
       "          \n",
       "q_2: ─────\n",
       "          \n",
       "q_3: ─────\n",
       "     ┌───┐\n",
       "q_4: ┤ X ├\n",
       "     └───┘"
      ]
     },
     "execution_count": 12,
     "metadata": {},
     "output_type": "execute_result"
    }
   ],
   "source": [
    "# size of input bit string\n",
    "n = 4\n",
    "\n",
    "# constant oracle algorithm\n",
    "const_oracle = QuantumCircuit(n+1)\n",
    "\n",
    "output = np.random.randint(2)\n",
    "if output == 1:\n",
    "    const_oracle.x(n)\n",
    "\n",
    "const_oracle.draw()"
   ]
  },
  {
   "cell_type": "code",
   "execution_count": 13,
   "metadata": {},
   "outputs": [
    {
     "data": {
      "text/html": [
       "<pre style=\"word-wrap: normal;white-space: pre;background: #fff0;line-height: 1.1;font-family: &quot;Courier New&quot;,Courier,monospace\">           ░                      ░      \n",
       "q_0: ──────░───■──────────────────░──────\n",
       "           ░   │                  ░      \n",
       "q_1: ──────░───┼────■─────────────░──────\n",
       "     ┌───┐ ░   │    │             ░ ┌───┐\n",
       "q_2: ┤ X ├─░───┼────┼────■────────░─┤ X ├\n",
       "     └───┘ ░   │    │    │        ░ └───┘\n",
       "q_3: ──────░───┼────┼────┼────■───░──────\n",
       "           ░ ┌─┴─┐┌─┴─┐┌─┴─┐┌─┴─┐ ░      \n",
       "q_4: ──────░─┤ X ├┤ X ├┤ X ├┤ X ├─░──────\n",
       "           ░ └───┘└───┘└───┘└───┘ ░      </pre>"
      ],
      "text/plain": [
       "           ░                      ░      \n",
       "q_0: ──────░───■──────────────────░──────\n",
       "           ░   │                  ░      \n",
       "q_1: ──────░───┼────■─────────────░──────\n",
       "     ┌───┐ ░   │    │             ░ ┌───┐\n",
       "q_2: ┤ X ├─░───┼────┼────■────────░─┤ X ├\n",
       "     └───┘ ░   │    │    │        ░ └───┘\n",
       "q_3: ──────░───┼────┼────┼────■───░──────\n",
       "           ░ ┌─┴─┐┌─┴─┐┌─┴─┐┌─┴─┐ ░      \n",
       "q_4: ──────░─┤ X ├┤ X ├┤ X ├┤ X ├─░──────\n",
       "           ░ └───┘└───┘└───┘└───┘ ░      "
      ]
     },
     "execution_count": 13,
     "metadata": {},
     "output_type": "execute_result"
    }
   ],
   "source": [
    "# balanced oracle algorithm\n",
    "balanced_oracle = QuantumCircuit(n+1)\n",
    "b_str = \"0010\"\n",
    "\n",
    "# Place X-gates\n",
    "for qubit in range(len(b_str)):\n",
    "    if b_str[qubit] == '1':\n",
    "        balanced_oracle.x(qubit)\n",
    "\n",
    "# Use barrier as divider\n",
    "balanced_oracle.barrier()\n",
    "\n",
    "# Controlled-NOT gates\n",
    "for qubit in range(n):\n",
    "    balanced_oracle.cx(qubit, n)\n",
    "\n",
    "balanced_oracle.barrier()\n",
    "\n",
    "# Place X-gates\n",
    "for qubit in range(len(b_str)):\n",
    "    if b_str[qubit] == '1':\n",
    "        balanced_oracle.x(qubit)\n",
    "\n",
    "# Show oracle\n",
    "balanced_oracle.draw()"
   ]
  },
  {
   "cell_type": "code",
   "execution_count": 18,
   "metadata": {},
   "outputs": [
    {
     "data": {
      "text/html": [
       "<pre style=\"word-wrap: normal;white-space: pre;background: #fff0;line-height: 1.1;font-family: &quot;Courier New&quot;,Courier,monospace\">     ┌───┐      ░                      ░ ┌───┐      ░ ┌─┐         \n",
       "q_0: ┤ H ├──────░───■──────────────────░─┤ H ├──────░─┤M├─────────\n",
       "     ├───┤      ░   │                  ░ ├───┤      ░ └╥┘┌─┐      \n",
       "q_1: ┤ H ├──────░───┼────■─────────────░─┤ H ├──────░──╫─┤M├──────\n",
       "     ├───┤┌───┐ ░   │    │             ░ ├───┤┌───┐ ░  ║ └╥┘┌─┐   \n",
       "q_2: ┤ H ├┤ X ├─░───┼────┼────■────────░─┤ X ├┤ H ├─░──╫──╫─┤M├───\n",
       "     ├───┤└───┘ ░   │    │    │        ░ ├───┤└───┘ ░  ║  ║ └╥┘┌─┐\n",
       "q_3: ┤ H ├──────░───┼────┼────┼────■───░─┤ H ├──────░──╫──╫──╫─┤M├\n",
       "     ├───┤┌───┐ ░ ┌─┴─┐┌─┴─┐┌─┴─┐┌─┴─┐ ░ └───┘      ░  ║  ║  ║ └╥┘\n",
       "q_4: ┤ X ├┤ H ├─░─┤ X ├┤ X ├┤ X ├┤ X ├─░────────────░──╫──╫──╫──╫─\n",
       "     └───┘└───┘ ░ └───┘└───┘└───┘└───┘ ░            ░  ║  ║  ║  ║ \n",
       "c_0: ══════════════════════════════════════════════════╩══╬══╬══╬═\n",
       "                                                          ║  ║  ║ \n",
       "c_1: ═════════════════════════════════════════════════════╩══╬══╬═\n",
       "                                                             ║  ║ \n",
       "c_2: ════════════════════════════════════════════════════════╩══╬═\n",
       "                                                                ║ \n",
       "c_3: ═══════════════════════════════════════════════════════════╩═\n",
       "                                                                  </pre>"
      ],
      "text/plain": [
       "     ┌───┐      ░                      ░ ┌───┐      ░ ┌─┐         \n",
       "q_0: ┤ H ├──────░───■──────────────────░─┤ H ├──────░─┤M├─────────\n",
       "     ├───┤      ░   │                  ░ ├───┤      ░ └╥┘┌─┐      \n",
       "q_1: ┤ H ├──────░───┼────■─────────────░─┤ H ├──────░──╫─┤M├──────\n",
       "     ├───┤┌───┐ ░   │    │             ░ ├───┤┌───┐ ░  ║ └╥┘┌─┐   \n",
       "q_2: ┤ H ├┤ X ├─░───┼────┼────■────────░─┤ X ├┤ H ├─░──╫──╫─┤M├───\n",
       "     ├───┤└───┘ ░   │    │    │        ░ ├───┤└───┘ ░  ║  ║ └╥┘┌─┐\n",
       "q_3: ┤ H ├──────░───┼────┼────┼────■───░─┤ H ├──────░──╫──╫──╫─┤M├\n",
       "     ├───┤┌───┐ ░ ┌─┴─┐┌─┴─┐┌─┴─┐┌─┴─┐ ░ └───┘      ░  ║  ║  ║ └╥┘\n",
       "q_4: ┤ X ├┤ H ├─░─┤ X ├┤ X ├┤ X ├┤ X ├─░────────────░──╫──╫──╫──╫─\n",
       "     └───┘└───┘ ░ └───┘└───┘└───┘└───┘ ░            ░  ║  ║  ║  ║ \n",
       "c_0: ══════════════════════════════════════════════════╩══╬══╬══╬═\n",
       "                                                          ║  ║  ║ \n",
       "c_1: ═════════════════════════════════════════════════════╩══╬══╬═\n",
       "                                                             ║  ║ \n",
       "c_2: ════════════════════════════════════════════════════════╩══╬═\n",
       "                                                                ║ \n",
       "c_3: ═══════════════════════════════════════════════════════════╩═\n",
       "                                                                  "
      ]
     },
     "execution_count": 18,
     "metadata": {},
     "output_type": "execute_result"
    }
   ],
   "source": [
    "dj_circuit = QuantumCircuit(n+1, n)\n",
    "\n",
    "# Apply H-gates\n",
    "for qubit in range(n):\n",
    "    dj_circuit.h(qubit)\n",
    "\n",
    "# Put qubit in state |->\n",
    "dj_circuit.x(n)\n",
    "dj_circuit.h(n)\n",
    "\n",
    "# Add oracle\n",
    "dj_circuit += balanced_oracle\n",
    "\n",
    "# Repeat H-gates\n",
    "for qubit in range(n):\n",
    "    dj_circuit.h(qubit)\n",
    "dj_circuit.barrier()\n",
    "\n",
    "# Measure\n",
    "for i in range(n):\n",
    "    dj_circuit.measure(i, i)\n",
    "\n",
    "# Display circuit\n",
    "dj_circuit.draw()"
   ]
  },
  {
   "cell_type": "code",
   "execution_count": 8,
   "metadata": {},
   "outputs": [
    {
     "name": "stdout",
     "output_type": "stream",
     "text": [
      "{'0000': 1024}\n"
     ]
    },
    {
     "data": {
      "image/png": "[encoded data removed]",
      "text/plain": [
       "<Figure size 504x360 with 1 Axes>"
      ]
     },
     "execution_count": 8,
     "metadata": {},
     "output_type": "execute_result"
    }
   ],
   "source": [
    "# use local simulator\n",
    "aer_sim = Aer.get_backend('qasm_simulator')\n",
    "job = execute(dj_circuit, aer_sim, shots=1024)\n",
    "results = job.result()\n",
    "counts = results.get_counts(dj_circuit)\n",
    "print(counts)\n",
    "plot_histogram(counts)"
   ]
  },
  {
   "cell_type": "code",
   "execution_count": 19,
   "metadata": {},
   "outputs": [],
   "source": [
    "                                  "
   ]
  }
 ],
 "metadata": {
  "kernelspec": {
   "display_name": "Python 3",
   "language": "python",
   "name": "python3"
  },
  "language_info": {
   "codemirror_mode": {
    "name": "ipython",
    "version": 3
   },
   "file_extension": ".py",
   "mimetype": "text/x-python",
   "name": "python",
   "nbconvert_exporter": "python",
   "pygments_lexer": "ipython3",
   "version": "3.8.5"
  }
 },
 "nbformat": 4,
 "nbformat_minor": 4
}
